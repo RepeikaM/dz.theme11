{
 "cells": [
  {
   "cell_type": "markdown",
   "id": "734f1dc6-7110-48bf-930f-b4c956af8f85",
   "metadata": {},
   "source": [
    "## Задание 1\n",
    "Датасет для домашнего задания вы найдете в разделе “Материалы к домашнему заданию” к этому занятию.\n",
    "Определите, какому фильму было выставлено больше всего оценок 5.0.\n",
    " "
   ]
  },
  {
   "cell_type": "code",
   "execution_count": 25,
   "id": "6356bb15-54da-40ce-a092-57b7aaaf8c48",
   "metadata": {},
   "outputs": [],
   "source": [
    "import pandas as pd"
   ]
  },
  {
   "cell_type": "code",
   "execution_count": 52,
   "id": "224447ca-f15c-4197-a15c-82495d6ddadf",
   "metadata": {},
   "outputs": [
    {
     "name": "stdout",
     "output_type": "stream",
     "text": [
      "Shawshank Redemption, The (1994)\n",
      "CPU times: total: 93.8 ms\n",
      "Wall time: 66.7 ms\n"
     ]
    }
   ],
   "source": [
    "%%time\n",
    "\n",
    "movie = pd.read_csv('movies.csv', sep=',', encoding = 'utf-8') \n",
    "rating = pd.read_csv('ratings.csv', sep=',', encoding = 'utf-8')\n",
    "joined = rating.merge(movie, on = 'movieId', how = 'left') # объединяю 2 таблицы по совпадающей колонке \"movieId\"\n",
    "rating_max = 5.0\n",
    "result = joined[joined['rating'] == rating_max]['title'].value_counts().idxmax()\n",
    "print(result)"
   ]
  },
  {
   "cell_type": "code",
   "execution_count": 54,
   "id": "40d537d7-bded-4978-8ffc-01f1ada584fd",
   "metadata": {},
   "outputs": [
    {
     "name": "stdout",
     "output_type": "stream",
     "text": [
      "title\n",
      "Shawshank Redemption, The (1994)             153\n",
      "Pulp Fiction (1994)                          123\n",
      "Forrest Gump (1994)                          116\n",
      "Matrix, The (1999)                           109\n",
      "Star Wars: Episode IV - A New Hope (1977)    104\n",
      "Name: count, dtype: int64\n"
     ]
    }
   ],
   "source": [
    "\"\"\" Проверка.\n",
    "Cписок фильмов, по убыванию, которым было выставлено больше всего оценок 5.0. \n",
    "Показывает, что в ответе указан фильм с максимальным количеством оценок 5.0 и это значение уникально.\"\"\"\n",
    "result_list = joined[joined['rating'] == rating_max]['title'].value_counts().head()\n",
    "print(result_list)"
   ]
  },
  {
   "cell_type": "markdown",
   "id": "321f7c19-196f-452a-a2a9-940dfd5a8c95",
   "metadata": {},
   "source": [
    "## Задание 2\n",
    "По данным файла power.csv (находится в “Материалы к домашнему заданию”) посчитайте суммарное потребление стран Прибалтики (Латвия, Литва и Эстония) категорий 4, 12 и 21 за период с 2005 по 2010 год. Не учитывайте в расчётах отрицательные значения quantity."
   ]
  },
  {
   "cell_type": "code",
   "execution_count": 219,
   "id": "2c587ab0-3453-45bd-a656-7bd8402b8d67",
   "metadata": {},
   "outputs": [
    {
     "name": "stdout",
     "output_type": "stream",
     "text": [
      "240580.0\n",
      "CPU times: total: 484 ms\n",
      "Wall time: 381 ms\n"
     ]
    }
   ],
   "source": [
    "%%time\n",
    "\n",
    "power = pd.read_csv('power.csv', sep=',', encoding = 'utf-8')\n",
    "filter_power = power[\n",
    "    (power['year'].isin(range(2005, 2011)))&\n",
    "    (power['country'].isin(['Latvia', 'Lithuania','Estonia']))&\n",
    "    (power['category'].isin([4, 12, 21]))&\n",
    "    (power['quantity']>=0)\n",
    "]\n",
    "grouped_sum = filter_power.groupby('country')['quantity'].sum()\n",
    "print(grouped_sum.sum())"
   ]
  },
  {
   "cell_type": "code",
   "execution_count": 221,
   "id": "984ef969-53c5-4800-b7d0-db243559a92d",
   "metadata": {},
   "outputs": [
    {
     "data": {
      "text/plain": [
       "array(['Korea, Republic of', 'Lithuania', 'Australia', 'Philippines',\n",
       "       'Republic of Moldova', 'Latvia', 'Belize',\n",
       "       'Bolivia (Plur. State of)', 'Dominican Republic', 'Estonia',\n",
       "       'Liberia', 'Libya', 'Venezuela (Bolivar. Rep.)', 'Mali',\n",
       "       'Syrian Arab Republic', 'Somalia', 'State of Palestine',\n",
       "       'Mongolia', 'Timor-Leste', 'Liechtenstein',\n",
       "       'Wallis and Futuna Is.'], dtype=object)"
      ]
     },
     "execution_count": 221,
     "metadata": {},
     "output_type": "execute_result"
    }
   ],
   "source": [
    "# проверка написания названий стран в файле\n",
    "power[power['country'].str.contains('li|latv|est|balti', case=False)]['country'].unique()"
   ]
  },
  {
   "cell_type": "code",
   "execution_count": 225,
   "id": "a6d61fd6-bfb4-446b-9428-05fe5a0dd3d6",
   "metadata": {},
   "outputs": [
    {
     "name": "stdout",
     "output_type": "stream",
     "text": [
      "[2008 2007 2006 2005 2010 2009] ['Estonia' 'Lithuania' 'Latvia'] [ 4 12 21] country\n",
      "Estonia       63440.0\n",
      "Latvia        54844.0\n",
      "Lithuania    122296.0\n",
      "Name: quantity, dtype: float64\n"
     ]
    }
   ],
   "source": [
    "# проверка правильности фильтрации в рабочем файле\n",
    "print(filter_power['year'].unique(), filter_power['country'].unique(), filter_power['category'].unique(), grouped_sum)"
   ]
  },
  {
   "cell_type": "code",
   "execution_count": null,
   "id": "126ba9d6-586f-4328-9b49-a18ef8b9db46",
   "metadata": {},
   "outputs": [],
   "source": []
  }
 ],
 "metadata": {
  "kernelspec": {
   "display_name": "Python [conda env:base] *",
   "language": "python",
   "name": "conda-base-py"
  },
  "language_info": {
   "codemirror_mode": {
    "name": "ipython",
    "version": 3
   },
   "file_extension": ".py",
   "mimetype": "text/x-python",
   "name": "python",
   "nbconvert_exporter": "python",
   "pygments_lexer": "ipython3",
   "version": "3.12.7"
  }
 },
 "nbformat": 4,
 "nbformat_minor": 5
}
