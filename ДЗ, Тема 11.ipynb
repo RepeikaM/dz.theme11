{
 "cells": [
  {
   "cell_type": "markdown",
   "id": "734f1dc6-7110-48bf-930f-b4c956af8f85",
   "metadata": {},
   "source": [
    "## Задание 1\n",
    "Датасет для домашнего задания вы найдете в разделе “Материалы к домашнему заданию” к этому занятию.\n",
    "Определите, какому фильму было выставлено больше всего оценок 5.0.\n",
    " "
   ]
  },
  {
   "cell_type": "code",
   "execution_count": 25,
   "id": "6356bb15-54da-40ce-a092-57b7aaaf8c48",
   "metadata": {},
   "outputs": [],
   "source": [
    "import pandas as pd"
   ]
  },
  {
   "cell_type": "code",
   "execution_count": 52,
   "id": "224447ca-f15c-4197-a15c-82495d6ddadf",
   "metadata": {},
   "outputs": [
    {
     "name": "stdout",
     "output_type": "stream",
     "text": [
      "Shawshank Redemption, The (1994)\n",
      "CPU times: total: 93.8 ms\n",
      "Wall time: 66.7 ms\n"
     ]
    }
   ],
   "source": [
    "%%time\n",
    "\n",
    "movie = pd.read_csv('movies.csv', sep=',', encoding = 'utf-8') \n",
    "rating = pd.read_csv('ratings.csv', sep=',', encoding = 'utf-8')\n",
    "joined = rating.merge(movie, on = 'movieId', how = 'left') # объединяю 2 таблицы по совпадающей колонке \"movieId\"\n",
    "rating_max = 5.0\n",
    "result = joined[joined['rating'] == rating_max]['title'].value_counts().idxmax()\n",
    "print(result)"
   ]
  },
  {
   "cell_type": "code",
   "execution_count": 54,
   "id": "40d537d7-bded-4978-8ffc-01f1ada584fd",
   "metadata": {},
   "outputs": [
    {
     "name": "stdout",
     "output_type": "stream",
     "text": [
      "title\n",
      "Shawshank Redemption, The (1994)             153\n",
      "Pulp Fiction (1994)                          123\n",
      "Forrest Gump (1994)                          116\n",
      "Matrix, The (1999)                           109\n",
      "Star Wars: Episode IV - A New Hope (1977)    104\n",
      "Name: count, dtype: int64\n"
     ]
    }
   ],
   "source": [
    "\"\"\" Проверка.\n",
    "Cписок фильмов, по убыванию, которым было выставлено больше всего оценок 5.0. \n",
    "Показывает, что в ответе указан фильм с максимальным количеством оценок 5.0 и это значение уникально.\"\"\"\n",
    "result_list = joined[joined['rating'] == rating_max]['title'].value_counts().head()\n",
    "print(result_list)"
   ]
  },
  {
   "cell_type": "markdown",
   "id": "321f7c19-196f-452a-a2a9-940dfd5a8c95",
   "metadata": {},
   "source": [
    "## Задание 2\n",
    "По данным файла power.csv (находится в “Материалы к домашнему заданию”) посчитайте суммарное потребление стран Прибалтики (Латвия, Литва и Эстония) категорий 4, 12 и 21 за период с 2005 по 2010 год. Не учитывайте в расчётах отрицательные значения quantity."
   ]
  },
  {
   "cell_type": "code",
   "execution_count": 58,
   "id": "2c587ab0-3453-45bd-a656-7bd8402b8d67",
   "metadata": {},
   "outputs": [
    {
     "data": {
      "text/html": [
       "<div>\n",
       "<style scoped>\n",
       "    .dataframe tbody tr th:only-of-type {\n",
       "        vertical-align: middle;\n",
       "    }\n",
       "\n",
       "    .dataframe tbody tr th {\n",
       "        vertical-align: top;\n",
       "    }\n",
       "\n",
       "    .dataframe thead th {\n",
       "        text-align: right;\n",
       "    }\n",
       "</style>\n",
       "<table border=\"1\" class=\"dataframe\">\n",
       "  <thead>\n",
       "    <tr style=\"text-align: right;\">\n",
       "      <th></th>\n",
       "      <th>country</th>\n",
       "      <th>year</th>\n",
       "      <th>quantity</th>\n",
       "      <th>category</th>\n",
       "    </tr>\n",
       "  </thead>\n",
       "  <tbody>\n",
       "    <tr>\n",
       "      <th>0</th>\n",
       "      <td>Austria</td>\n",
       "      <td>1996</td>\n",
       "      <td>5.0</td>\n",
       "      <td>1</td>\n",
       "    </tr>\n",
       "    <tr>\n",
       "      <th>1</th>\n",
       "      <td>Austria</td>\n",
       "      <td>1995</td>\n",
       "      <td>17.0</td>\n",
       "      <td>1</td>\n",
       "    </tr>\n",
       "    <tr>\n",
       "      <th>2</th>\n",
       "      <td>Belgium</td>\n",
       "      <td>2014</td>\n",
       "      <td>0.0</td>\n",
       "      <td>1</td>\n",
       "    </tr>\n",
       "    <tr>\n",
       "      <th>3</th>\n",
       "      <td>Belgium</td>\n",
       "      <td>2013</td>\n",
       "      <td>0.0</td>\n",
       "      <td>1</td>\n",
       "    </tr>\n",
       "    <tr>\n",
       "      <th>4</th>\n",
       "      <td>Belgium</td>\n",
       "      <td>2012</td>\n",
       "      <td>35.0</td>\n",
       "      <td>1</td>\n",
       "    </tr>\n",
       "  </tbody>\n",
       "</table>\n",
       "</div>"
      ],
      "text/plain": [
       "   country  year  quantity  category\n",
       "0  Austria  1996       5.0         1\n",
       "1  Austria  1995      17.0         1\n",
       "2  Belgium  2014       0.0         1\n",
       "3  Belgium  2013       0.0         1\n",
       "4  Belgium  2012      35.0         1"
      ]
     },
     "execution_count": 58,
     "metadata": {},
     "output_type": "execute_result"
    }
   ],
   "source": [
    "power = pd.read_csv('power.csv', sep=',', encoding = 'utf-8')\n",
    "power.head()"
   ]
  },
  {
   "cell_type": "code",
   "execution_count": 64,
   "id": "8a6a0d36-5c6e-4279-9f69-66f7e5bd52fb",
   "metadata": {},
   "outputs": [],
   "source": [
    "#transaction = pd.read_csv('transactions.csv', sep=',', encoding = 'utf-8')\n",
    "#transaction.head()"
   ]
  },
  {
   "cell_type": "code",
   "execution_count": null,
   "id": "85b2a60a-d3a8-4225-8d15-9cea90deb4e4",
   "metadata": {},
   "outputs": [],
   "source": [
    "power[power['country'].str.contains(('Latvia', 'Lithuania', 'Estonia', 'Baltic'), case=False)]['country'].unique()"
   ]
  },
  {
   "cell_type": "code",
   "execution_count": 118,
   "id": "f1ec8090-6355-4d2f-a2f2-3f6ba8ee8211",
   "metadata": {},
   "outputs": [
    {
     "data": {
      "text/plain": [
       "array(['Latvia'], dtype=object)"
      ]
     },
     "execution_count": 118,
     "metadata": {},
     "output_type": "execute_result"
    }
   ],
   "source": [
    "power[power['country'].str.contains('latv', case=False)]['country'].unique()"
   ]
  },
  {
   "cell_type": "code",
   "execution_count": 120,
   "id": "28bd0066-7710-4c59-9c0b-136ef3e52051",
   "metadata": {},
   "outputs": [
    {
     "data": {
      "text/plain": [
       "array(['Lithuania'], dtype=object)"
      ]
     },
     "execution_count": 120,
     "metadata": {},
     "output_type": "execute_result"
    }
   ],
   "source": [
    "power[power['country'].str.contains('lith', case=False)]['country'].unique()"
   ]
  },
  {
   "cell_type": "code",
   "execution_count": 122,
   "id": "181cc0b4-b8ab-41e9-a12b-fa26e12ba205",
   "metadata": {},
   "outputs": [
    {
     "data": {
      "text/plain": [
       "array(['Estonia', 'State of Palestine', 'Timor-Leste'], dtype=object)"
      ]
     },
     "execution_count": 122,
     "metadata": {},
     "output_type": "execute_result"
    }
   ],
   "source": [
    "power[power['country'].str.contains('est', case=False)]['country'].unique()"
   ]
  },
  {
   "cell_type": "code",
   "execution_count": 126,
   "id": "7ddc54a5-4112-4c68-9020-9b686fd91998",
   "metadata": {},
   "outputs": [
    {
     "data": {
      "text/plain": [
       "array([], dtype=object)"
      ]
     },
     "execution_count": 126,
     "metadata": {},
     "output_type": "execute_result"
    }
   ],
   "source": [
    "power[power['country'].str.contains('baltic', case=False)]['country'].unique()"
   ]
  },
  {
   "cell_type": "code",
   "execution_count": null,
   "id": "6eefa001-8f56-4672-baf5-5dc2d06c0db0",
   "metadata": {},
   "outputs": [],
   "source": []
  },
  {
   "cell_type": "code",
   "execution_count": 96,
   "id": "4f66ddd5-abc9-40bd-8150-e6e6d09d0bdc",
   "metadata": {},
   "outputs": [
    {
     "data": {
      "text/html": [
       "<div>\n",
       "<style scoped>\n",
       "    .dataframe tbody tr th:only-of-type {\n",
       "        vertical-align: middle;\n",
       "    }\n",
       "\n",
       "    .dataframe tbody tr th {\n",
       "        vertical-align: top;\n",
       "    }\n",
       "\n",
       "    .dataframe thead th {\n",
       "        text-align: right;\n",
       "    }\n",
       "</style>\n",
       "<table border=\"1\" class=\"dataframe\">\n",
       "  <thead>\n",
       "    <tr style=\"text-align: right;\">\n",
       "      <th></th>\n",
       "      <th>country</th>\n",
       "      <th>year</th>\n",
       "      <th>quantity</th>\n",
       "      <th>category</th>\n",
       "    </tr>\n",
       "  </thead>\n",
       "  <tbody>\n",
       "    <tr>\n",
       "      <th>0</th>\n",
       "      <td>Латвия</td>\n",
       "      <td>2005</td>\n",
       "      <td>35</td>\n",
       "      <td>5</td>\n",
       "    </tr>\n",
       "    <tr>\n",
       "      <th>1</th>\n",
       "      <td>Россия</td>\n",
       "      <td>2007</td>\n",
       "      <td>10</td>\n",
       "      <td>4</td>\n",
       "    </tr>\n",
       "    <tr>\n",
       "      <th>2</th>\n",
       "      <td>Эстония</td>\n",
       "      <td>2000</td>\n",
       "      <td>68</td>\n",
       "      <td>21</td>\n",
       "    </tr>\n",
       "    <tr>\n",
       "      <th>3</th>\n",
       "      <td>Эстония</td>\n",
       "      <td>2009</td>\n",
       "      <td>0</td>\n",
       "      <td>4</td>\n",
       "    </tr>\n",
       "    <tr>\n",
       "      <th>4</th>\n",
       "      <td>Беларусь</td>\n",
       "      <td>1997</td>\n",
       "      <td>78</td>\n",
       "      <td>21</td>\n",
       "    </tr>\n",
       "    <tr>\n",
       "      <th>5</th>\n",
       "      <td>Литва</td>\n",
       "      <td>2010</td>\n",
       "      <td>66</td>\n",
       "      <td>4</td>\n",
       "    </tr>\n",
       "    <tr>\n",
       "      <th>6</th>\n",
       "      <td>Литва</td>\n",
       "      <td>1960</td>\n",
       "      <td>55</td>\n",
       "      <td>12</td>\n",
       "    </tr>\n",
       "  </tbody>\n",
       "</table>\n",
       "</div>"
      ],
      "text/plain": [
       "    country  year  quantity  category\n",
       "0    Латвия  2005        35         5\n",
       "1    Россия  2007        10         4\n",
       "2   Эстония  2000        68        21\n",
       "3   Эстония  2009         0         4\n",
       "4  Беларусь  1997        78        21\n",
       "5     Литва  2010        66         4\n",
       "6     Литва  1960        55        12"
      ]
     },
     "execution_count": 96,
     "metadata": {},
     "output_type": "execute_result"
    }
   ],
   "source": [
    "df = pd.DataFrame(\n",
    "    {\n",
    "        'country':['Латвия','Россия','Эстония','Эстония','Беларусь','Литва','Литва'],\n",
    "        'year':['2005', '2007', '2000', '2009', '1997', '2010', '1960'],\n",
    "        'quantity':[35, 10, 68, 0, 78, 66, 55],\n",
    "        'category':[5, 4, 21, 4, 21, 4, 12]\n",
    "    }\n",
    ")\n",
    "df"
   ]
  },
  {
   "cell_type": "code",
   "execution_count": 128,
   "id": "094590d6-dc95-4350-a4b8-0f11cac65d8b",
   "metadata": {},
   "outputs": [
    {
     "data": {
      "text/plain": [
       "array(['Латвия', 'Литва'], dtype=object)"
      ]
     },
     "execution_count": 128,
     "metadata": {},
     "output_type": "execute_result"
    }
   ],
   "source": [
    "df[df['country'].str.contains('тв', case=False)]['country'].unique()"
   ]
  },
  {
   "cell_type": "code",
   "execution_count": 98,
   "id": "4f2e3461-f7b7-4f77-a5f3-e7736e506239",
   "metadata": {},
   "outputs": [
    {
     "data": {
      "text/html": [
       "<div>\n",
       "<style scoped>\n",
       "    .dataframe tbody tr th:only-of-type {\n",
       "        vertical-align: middle;\n",
       "    }\n",
       "\n",
       "    .dataframe tbody tr th {\n",
       "        vertical-align: top;\n",
       "    }\n",
       "\n",
       "    .dataframe thead th {\n",
       "        text-align: right;\n",
       "    }\n",
       "</style>\n",
       "<table border=\"1\" class=\"dataframe\">\n",
       "  <thead>\n",
       "    <tr style=\"text-align: right;\">\n",
       "      <th></th>\n",
       "      <th>country</th>\n",
       "      <th>year</th>\n",
       "      <th>quantity</th>\n",
       "      <th>category</th>\n",
       "    </tr>\n",
       "  </thead>\n",
       "  <tbody>\n",
       "    <tr>\n",
       "      <th>3</th>\n",
       "      <td>Эстония</td>\n",
       "      <td>2009</td>\n",
       "      <td>0</td>\n",
       "      <td>4</td>\n",
       "    </tr>\n",
       "    <tr>\n",
       "      <th>5</th>\n",
       "      <td>Литва</td>\n",
       "      <td>2010</td>\n",
       "      <td>66</td>\n",
       "      <td>4</td>\n",
       "    </tr>\n",
       "  </tbody>\n",
       "</table>\n",
       "</div>"
      ],
      "text/plain": [
       "   country  year  quantity  category\n",
       "3  Эстония  2009         0         4\n",
       "5    Литва  2010        66         4"
      ]
     },
     "execution_count": 98,
     "metadata": {},
     "output_type": "execute_result"
    }
   ],
   "source": [
    "def complex_filter(row):\n",
    "    country = row['country']\n",
    "    year = row['year']\n",
    "    category = row['category']\n",
    "    quantity = row['quantity']\n",
    "    if quantity >= 0:\n",
    "        if year in ['2005', '2006', '2007', '2008', '2009', '2010']:        \n",
    "            if country in ['Латвия', 'Литва', 'Эстония']:\n",
    "                if category in [4, 12, 21]:\n",
    "                    return True\n",
    "    return False\n",
    "\n",
    "#power[power.apply(complex_filter, axis=1)]\n",
    "df[df.apply(complex_filter, axis=1)]\n",
    "        "
   ]
  },
  {
   "cell_type": "code",
   "execution_count": null,
   "id": "831c1378-2258-41c1-8265-c7e0a8892cae",
   "metadata": {},
   "outputs": [],
   "source": []
  }
 ],
 "metadata": {
  "kernelspec": {
   "display_name": "Python [conda env:base] *",
   "language": "python",
   "name": "conda-base-py"
  },
  "language_info": {
   "codemirror_mode": {
    "name": "ipython",
    "version": 3
   },
   "file_extension": ".py",
   "mimetype": "text/x-python",
   "name": "python",
   "nbconvert_exporter": "python",
   "pygments_lexer": "ipython3",
   "version": "3.12.7"
  }
 },
 "nbformat": 4,
 "nbformat_minor": 5
}
